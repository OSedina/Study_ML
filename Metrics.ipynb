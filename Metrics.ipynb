{
 "cells": [
  {
   "cell_type": "markdown",
   "metadata": {},
   "source": [
    "## Metrics"
   ]
  },
  {
   "cell_type": "code",
   "execution_count": 40,
   "metadata": {},
   "outputs": [],
   "source": [
    "import numpy as np\n",
    "from matplotlib import pyplot as plt\n",
    "import seaborn\n",
    "%matplotlib inline\n",
    "\n",
    "import warnings\n",
    "warnings.filterwarnings('ignore')"
   ]
  },
  {
   "cell_type": "markdown",
   "metadata": {},
   "source": [
    "Будем использовать два вектора: вектор правильных ответов и вектор предсказанных величин (actual и predicted).\n",
    "Actual состоит из нулей и единиц, а predicted - из величин из интервала [0, 1] (вероятности класса 1). \n",
    "\n",
    "Для финального предсказания (уже бинарного), нужно установить порог T: все объекты, имеющие предсказание выше порога, относят к классу 1, остальные - к классу 0. "
   ]
  },
  {
   "cell_type": "code",
   "execution_count": 41,
   "metadata": {},
   "outputs": [],
   "source": [
    "# рисует один scatter plot\n",
    "def scatter(actual, predicted, T):\n",
    "    plt.scatter(actual, predicted)       # точки на плоскости\n",
    "    plt.xlabel(\"Labels\")\n",
    "    plt.ylabel(\"Predicted probabilities\")\n",
    "    \n",
    "    plt.plot([-0.2, 1.2], [T, T])        # горизонтальная разделяющая линия\n",
    "    plt.axis([-0.1, 1.1, -0.1, 1.1])     # задаем размер облати\n",
    "    \n",
    "    \n"
   ]
  },
  {
   "cell_type": "code",
   "execution_count": 42,
   "metadata": {},
   "outputs": [],
   "source": [
    "actual_0 = np.array([ 0.,  0.,  0.,  0.,  0.,  0.,  0.,  0.,  0.,  0.,  \n",
    "          1.,  1.,  1., 1.,  1.,  1.,  1.,  1.,  1.,  1.,  1.,  1.])\n",
    "predicted_0 = np.array([ 0.19015288,  0.23872404,  0.42707312,  0.15308362,  0.2951875 ,\n",
    "            0.23475641,  0.17882447,  0.36320878,  0.33505476,  0.202608  ,\n",
    "            0.82044786,  0.69750253,  0.60272784,  0.9032949 ,  0.86949819,\n",
    "            0.97368264,  0.97289232,  0.75356512,  0.65189193,  0.95237033,\n",
    "            0.91529693,  0.8458463 ])"
   ]
  },
  {
   "cell_type": "code",
   "execution_count": 43,
   "metadata": {},
   "outputs": [
    {
     "data": {
      "image/png": "[encoded data removed]",
      "text/plain": [
       "<Figure size 432x288 with 1 Axes>"
      ]
     },
     "metadata": {
      "needs_background": "light"
     },
     "output_type": "display_data"
    }
   ],
   "source": [
    "scatter(actual_0, predicted_0, 0.5)"
   ]
  },
  {
   "cell_type": "markdown",
   "metadata": {},
   "source": [
    "Это идеальный алгоритм, он четко разделяет классы. 0 ниже линии уровня Т, 1 выше линии уровня."
   ]
  },
  {
   "cell_type": "code",
   "execution_count": 44,
   "metadata": {},
   "outputs": [],
   "source": [
    "actual_1 = np.array([ 0.,  0.,  0.,  0.,  0.,  0.,  0.,  0.,  0.,  0.,  0.,  0.,  0.,\n",
    "                    0.,  0.,  1.,  1.,  1.,  1.,  1.,  1.,  1.,  1.,  1.,  1.,  1.,\n",
    "                    1.,  1.,  1.,  1.])\n",
    "predicted_1 = np.array([ 0.41310733,  0.43739138,  0.22346525,  0.46746017,  0.58251177,\n",
    "            0.38989541,  0.43634826,  0.32329726,  0.01114812,  0.41623557,\n",
    "            0.54875741,  0.48526472,  0.21747683,  0.05069586,  0.16438548,\n",
    "            0.68721238,  0.72062154,  0.90268312,  0.46486043,  0.99656541,\n",
    "            0.59919345,  0.53818659,  0.8037637 ,  0.272277  ,  0.87428626,\n",
    "            0.79721372,  0.62506539,  0.63010277,  0.35276217,  0.56775664])"
   ]
  },
  {
   "cell_type": "code",
   "execution_count": 45,
   "metadata": {},
   "outputs": [
    {
     "data": {
      "image/png": "[encoded data removed]",
      "text/plain": [
       "<Figure size 432x288 with 1 Axes>"
      ]
     },
     "metadata": {
      "needs_background": "light"
     },
     "output_type": "display_data"
    }
   ],
   "source": [
    "scatter(actual_1, predicted_1, 0.5)"
   ]
  },
  {
   "cell_type": "markdown",
   "metadata": {},
   "source": [
    " Это реальный хороший алгоритм. Здесь интервалы накладываются, нужно осторожно подбирать порог."
   ]
  },
  {
   "cell_type": "code",
   "execution_count": 46,
   "metadata": {},
   "outputs": [],
   "source": [
    "actual_2 = np.array([ 1.,  1.,  1.,  1.,  1.,  1.,  1.,  1.,  1.,  1.,  1.,  1.,  0.,\n",
    "            0.,  0.,  0.,  0.,  0.,  0.,  0.,  0.,  0.,  0.,  0.])\n",
    "predicted_2 = np.array([ 0.07058193,  0.57877375,  0.42453249,  0.56562439,  0.13372737,\n",
    "            0.18696826,  0.09037209,  0.12609756,  0.14047683,  0.06210359,\n",
    "            0.36812596,  0.22277266,  0.79974381,  0.94843878,  0.4742684 ,\n",
    "            0.80825366,  0.83569563,  0.45621915,  0.79364286,  0.82181152,\n",
    "            0.44531285,  0.65245348,  0.69884206,  0.69455127])"
   ]
  },
  {
   "cell_type": "code",
   "execution_count": 47,
   "metadata": {},
   "outputs": [
    {
     "data": {
      "image/png": "[encoded data removed]",
      "text/plain": [
       "<Figure size 432x288 with 1 Axes>"
      ]
     },
     "metadata": {
      "needs_background": "light"
     },
     "output_type": "display_data"
    }
   ],
   "source": [
    "scatter(actual_2, predicted_2, 0.5)"
   ]
  },
  {
   "cell_type": "markdown",
   "metadata": {},
   "source": [
    "Здесь неправильный алгоритм делает все наоборот: поднимает вероятности класса 0 выше вероятностей класса 1. Если так произошло, стоит посмотреть, не перепутались ли метки 0 и 1 при создании целевого вектора из сырых данных.\n"
   ]
  },
  {
   "cell_type": "markdown",
   "metadata": {},
   "source": [
    "#### Precision и recall, accuracy"
   ]
  },
  {
   "cell_type": "code",
   "execution_count": 56,
   "metadata": {},
   "outputs": [],
   "source": [
    "from sklearn.metrics import precision_score, recall_score, accuracy_score"
   ]
  },
  {
   "cell_type": "code",
   "execution_count": 61,
   "metadata": {},
   "outputs": [],
   "source": [
    "actual = np.array([ 1.,  0.,  1.,  0.,  0.,  0.,  0.,  0.,  0.,\n",
    "                0.,  1.,  1.,  1.,  1.,  1.,  1.,  1.,  1.,\n",
    "                1.,  1.,  1.])\n",
    "predicted = np.array([ 0.,  0.,  1.,  0.,  0.,  0.,  1.,  0.,  0.,\n",
    "                0.,  1.,  0.,  1.,  1.,  1.,  0.,  1.,  1.,\n",
    "                1.,  1.,  1.])"
   ]
  },
  {
   "cell_type": "code",
   "execution_count": 62,
   "metadata": {},
   "outputs": [
    {
     "name": "stdout",
     "output_type": "stream",
     "text": [
      "0.9090909090909091\n"
     ]
    }
   ],
   "source": [
    "print(precision_score(actual, predicted))"
   ]
  },
  {
   "cell_type": "code",
   "execution_count": 63,
   "metadata": {},
   "outputs": [
    {
     "name": "stdout",
     "output_type": "stream",
     "text": [
      "0.7692307692307693\n"
     ]
    }
   ],
   "source": [
    "print(recall_score(actual, predicted))"
   ]
  },
  {
   "cell_type": "code",
   "execution_count": 64,
   "metadata": {},
   "outputs": [
    {
     "name": "stdout",
     "output_type": "stream",
     "text": [
      "0.8095238095238095\n"
     ]
    }
   ],
   "source": [
    "print(accuracy_score(actual, predicted))"
   ]
  },
  {
   "cell_type": "markdown",
   "metadata": {},
   "source": [
    "### Метрики, оценивающие векторы вероятностей класса 1"
   ]
  },
  {
   "cell_type": "markdown",
   "metadata": {},
   "source": [
    "#### Log_loss"
   ]
  },
  {
   "cell_type": "markdown",
   "metadata": {},
   "source": [
    "Log_loss вычисляет правдоподобие меток в actual с вероятностями из predicted, взятое с противоположным знаком:\n",
    "\n",
    "$log\\_loss(actual, predicted) = - \\frac 1 n \\sum_{i=1}^n (actual_i \\cdot \\log (predicted_i) + (1-actual_i) \\cdot \\log (1-predicted_i))$, $n$ - длина векторов.\n",
    "\n",
    "Соответственно, эту метрику нужно минимизировать. "
   ]
  },
  {
   "cell_type": "markdown",
   "metadata": {},
   "source": [
    "Вычислим ее на наших векторах:"
   ]
  },
  {
   "cell_type": "code",
   "execution_count": 65,
   "metadata": {},
   "outputs": [],
   "source": [
    "from sklearn.metrics import log_loss"
   ]
  },
  {
   "cell_type": "code",
   "execution_count": 66,
   "metadata": {},
   "outputs": [
    {
     "name": "stdout",
     "output_type": "stream",
     "text": [
      "0.4645068222557676\n"
     ]
    }
   ],
   "source": [
    "print(log_loss(actual_1, predicted_1))"
   ]
  },
  {
   "cell_type": "markdown",
   "metadata": {},
   "source": [
    "#### ROC и AUC"
   ]
  },
  {
   "cell_type": "code",
   "execution_count": 67,
   "metadata": {},
   "outputs": [],
   "source": [
    "from sklearn.metrics import roc_curve, roc_auc_score"
   ]
  }
 ],
 "metadata": {
  "kernelspec": {
   "display_name": "Python 3 (ipykernel)",
   "language": "python",
   "name": "python3"
  },
  "language_info": {
   "codemirror_mode": {
    "name": "ipython",
    "version": 3
   },
   "file_extension": ".py",
   "mimetype": "text/x-python",
   "name": "python",
   "nbconvert_exporter": "python",
   "pygments_lexer": "ipython3",
   "version": "3.9.12"
  },
  "toc": {
   "base_numbering": 1,
   "nav_menu": {},
   "number_sections": true,
   "sideBar": true,
   "skip_h1_title": false,
   "title_cell": "Table of Contents",
   "title_sidebar": "Contents",
   "toc_cell": false,
   "toc_position": {},
   "toc_section_display": true,
   "toc_window_display": true
  }
 },
 "nbformat": 4,
 "nbformat_minor": 1
}
